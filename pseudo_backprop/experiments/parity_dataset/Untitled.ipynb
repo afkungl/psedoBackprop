{
 "cells": [
  {
   "cell_type": "code",
   "execution_count": 42,
   "metadata": {},
   "outputs": [],
   "source": [
    "from dataset import ParityDataset\n",
    "%reload_ext autoreload\n",
    "%autoreload 1\n",
    "%aimport dataset"
   ]
  },
  {
   "cell_type": "code",
   "execution_count": 49,
   "metadata": {},
   "outputs": [],
   "source": [
    "dataset1 = ParityDataset(inputs = 4)"
   ]
  },
  {
   "cell_type": "code",
   "execution_count": 50,
   "metadata": {},
   "outputs": [
    {
     "data": {
      "text/plain": [
       "16"
      ]
     },
     "execution_count": 50,
     "metadata": {},
     "output_type": "execute_result"
    }
   ],
   "source": [
    "len(dataset1)"
   ]
  },
  {
   "cell_type": "code",
   "execution_count": 51,
   "metadata": {},
   "outputs": [
    {
     "name": "stdout",
     "output_type": "stream",
     "text": [
      "(array([0, 1, 0, 1]), 0)\n",
      "(array([1, 0, 1, 1]), 1)\n",
      "(array([1, 0, 1, 0]), 0)\n",
      "(array([1, 0, 0, 0]), 1)\n",
      "(array([0, 0, 0, 0]), 0)\n",
      "(array([1, 0, 1, 1]), 1)\n",
      "(array([1, 1, 1, 0]), 1)\n",
      "(array([0, 0, 1, 0]), 1)\n",
      "(array([1, 1, 0, 1]), 1)\n",
      "(array([1, 0, 0, 1]), 0)\n",
      "(array([0, 1, 1, 1]), 1)\n",
      "(array([0, 0, 0, 0]), 0)\n",
      "(array([0, 0, 0, 0]), 0)\n",
      "(array([0, 1, 0, 0]), 1)\n",
      "(array([1, 1, 0, 1]), 1)\n",
      "(array([0, 1, 1, 0]), 0)\n"
     ]
    }
   ],
   "source": [
    "for i in range(len(dataset1)):\n",
    "    print(dataset1.__getitem__(i))"
   ]
  },
  {
   "cell_type": "code",
   "execution_count": null,
   "metadata": {},
   "outputs": [],
   "source": []
  }
 ],
 "metadata": {
  "kernelspec": {
   "display_name": "Python 3",
   "language": "python",
   "name": "python3"
  },
  "language_info": {
   "codemirror_mode": {
    "name": "ipython",
    "version": 3
   },
   "file_extension": ".py",
   "mimetype": "text/x-python",
   "name": "python",
   "nbconvert_exporter": "python",
   "pygments_lexer": "ipython3",
   "version": "3.8.5"
  }
 },
 "nbformat": 4,
 "nbformat_minor": 4
}
